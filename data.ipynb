{
 "cells": [
  {
   "cell_type": "code",
   "execution_count": 1,
   "metadata": {},
   "outputs": [],
   "source": [
    "import tempfile\n",
    "import subprocess\n",
    "import os, sys\n",
    "import numpy as np\n",
    "import pickle\n",
    "import pprint"
   ]
  },
  {
   "cell_type": "code",
   "execution_count": 2,
   "metadata": {},
   "outputs": [
    {
     "name": "stderr",
     "output_type": "stream",
     "text": [
      "/home/xinyug2/anaconda3/lib/python3.7/site-packages/tensorflow/python/framework/dtypes.py:526: FutureWarning: Passing (type, 1) or '1type' as a synonym of type is deprecated; in a future version of numpy, it will be understood as (type, (1,)) / '(1,)type'.\n",
      "  _np_qint8 = np.dtype([(\"qint8\", np.int8, 1)])\n",
      "/home/xinyug2/anaconda3/lib/python3.7/site-packages/tensorflow/python/framework/dtypes.py:527: FutureWarning: Passing (type, 1) or '1type' as a synonym of type is deprecated; in a future version of numpy, it will be understood as (type, (1,)) / '(1,)type'.\n",
      "  _np_quint8 = np.dtype([(\"quint8\", np.uint8, 1)])\n",
      "/home/xinyug2/anaconda3/lib/python3.7/site-packages/tensorflow/python/framework/dtypes.py:528: FutureWarning: Passing (type, 1) or '1type' as a synonym of type is deprecated; in a future version of numpy, it will be understood as (type, (1,)) / '(1,)type'.\n",
      "  _np_qint16 = np.dtype([(\"qint16\", np.int16, 1)])\n",
      "/home/xinyug2/anaconda3/lib/python3.7/site-packages/tensorflow/python/framework/dtypes.py:529: FutureWarning: Passing (type, 1) or '1type' as a synonym of type is deprecated; in a future version of numpy, it will be understood as (type, (1,)) / '(1,)type'.\n",
      "  _np_quint16 = np.dtype([(\"quint16\", np.uint16, 1)])\n",
      "/home/xinyug2/anaconda3/lib/python3.7/site-packages/tensorflow/python/framework/dtypes.py:530: FutureWarning: Passing (type, 1) or '1type' as a synonym of type is deprecated; in a future version of numpy, it will be understood as (type, (1,)) / '(1,)type'.\n",
      "  _np_qint32 = np.dtype([(\"qint32\", np.int32, 1)])\n",
      "/home/xinyug2/anaconda3/lib/python3.7/site-packages/tensorflow/python/framework/dtypes.py:535: FutureWarning: Passing (type, 1) or '1type' as a synonym of type is deprecated; in a future version of numpy, it will be understood as (type, (1,)) / '(1,)type'.\n",
      "  np_resource = np.dtype([(\"resource\", np.ubyte, 1)])\n"
     ]
    }
   ],
   "source": [
    "import tensorflow as tf"
   ]
  },
  {
   "cell_type": "code",
   "execution_count": 42,
   "metadata": {},
   "outputs": [
    {
     "data": {
      "text/plain": [
       "'/mnt/c/Users/xinyu/netsurfp-1.0d.Linux/netsurfp-1.0/bin'"
      ]
     },
     "execution_count": 42,
     "metadata": {},
     "output_type": "execute_result"
    }
   ],
   "source": [
    "# env_var = os.environ\n",
    "# print(\"User's Environment variable:\")\n",
    "# pprint.pprint(dict(env_var), width = 1)"
   ]
  },
  {
   "cell_type": "code",
   "execution_count": 113,
   "metadata": {},
   "outputs": [],
   "source": [
    "POLARITY       = {'A': -0.06, 'R': -0.84, 'N': -0.48, 'D': -0.80, 'C': 1.36, 'Q': -0.73,\n",
    "                  'E': -0.77, 'G': -0.41, 'H': 0.49, 'I': 1.31, 'L': 1.21, 'K': -1.18, \n",
    "                  'M': 1.27, 'F': 1.27, 'P': 0.0, 'S': -0.50, 'T': -0.27, 'W': 0.88, \n",
    "                  'Y': 0.33, 'V': 1.0}\n",
    "HYDROPHOBICITY = {'A': -0.40, 'R': -0.59, 'N': -0.92, 'D': -1.31, 'C': 0.17, 'Q': -0.91,\n",
    "                  'E': -1.22, 'G': -0.67, 'H': -0.64, 'I': 1.25, 'L': 1.22, 'K': -0.67, \n",
    "                  'M': 1.02, 'F': 1.92, 'P': -0.49, 'S': -0.55, 'T': -0.28, 'W': 0.50, \n",
    "                  'Y': 1.67, 'V': 0.91}\n",
    "VOLUME         = {'A': 52.6, 'R': 109.1, 'N': 75.7, 'D': 68.4, 'C': 68.3, 'Q': 89.7,\n",
    "                  'E': 84.7, 'G': 36.3, 'H': 91.9, 'I': 102.0, 'L': 102.0, 'K': 105.1, \n",
    "                  'M': 97.7, 'F': 113.9, 'P': 73.6, 'S': 54.9, 'T': 71.2, 'W': 135.4, \n",
    "                  'Y': 116.2, 'V': 85.1, 'X': 52.6, 'Z': 52.6, 'B': 52.6, 'J': 102.0}\n",
    "BLOSUM50       = {'A': [ 5, -2, -1, -2, -1, -1, -1,  0, -2, -1, -2, -1, -1, -3, -1,  1,  0, -3, -2,  0],\n",
    "                  'R': [-2,  7, -1, -2, -4,  1,  0, -3,  0, -4, -3,  3, -2, -3, -3, -1, -1, -3, -1, -3],\n",
    "                  'N': [-1, -1,  7,  2, -2,  0,  0,  0,  1, -3, -4,  0, -2, -4, -2,  1,  0, -4, -2, -3],\n",
    "                  'D': [-2, -2,  2,  8, -4,  0,  2, -1, -1, -4, -4, -1, -4, -5, -1,  0, -1, -5, -3, -4],\n",
    "                  'C': [-1, -4, -2, -4, 13, -3, -3, -3, -3, -2, -2, -3, -2, -2, -4, -1, -1, -5, -3, -1],\n",
    "                  'Q': [-1,  1,  0,  0, -3,  7,  2, -2,  1, -3, -2,  2,  0, -4, -1,  0, -1, -1, -1, -3],\n",
    "                  'E': [-1,  0,  0,  2, -3,  2,  6, -3,  0, -4, -3,  1, -2, -3, -1, -1, -1, -3, -2, -3],\n",
    "                  'G': [ 0, -3,  0, -1, -3, -2, -3,  8, -2, -4, -4, -2, -3, -4, -2,  0, -2, -3, -3, -4],\n",
    "                  'H': [-2,  0,  1, -1, -3,  1,  0, -2, 10, -4, -3,  0, -1, -1, -2, -1, -2, -3,  2, -4],\n",
    "                  'I': [-1, -4, -3, -4, -2, -3, -4, -4, -4,  5,  2, -3,  2,  0, -3, -3, -1, -3, -1,  4],\n",
    "                  'L': [-2, -3, -4, -4, -2, -2, -3, -4, -3,  2,  5, -3,  3,  1, -4, -3, -1, -2, -1,  1],\n",
    "                  'K': [-1,  3,  0, -1, -3,  2,  1, -2,  0, -3, -3,  6, -2, -4, -1,  0, -1, -3, -2, -3],\n",
    "                  'M': [-1, -2, -2, -4, -2,  0, -2, -3, -1,  2,  3, -2,  7,  0, -3, -2, -1, -1,  0,  1],\n",
    "                  'F': [-3, -3, -4, -5, -2, -4, -3, -4, -1,  0,  1, -4,  0,  8, -4, -3, -2,  1,  4, -1],\n",
    "                  'P': [-1, -3, -2, -1, -4, -1, -1, -2, -2, -3, -4, -1, -3, -4, 10, -1, -1, -4, -3, -3],\n",
    "                  'S': [ 1, -1,  1,  0, -1,  0, -1,  0, -1, -3, -3,  0, -2, -3, -1,  5,  2, -4, -2, -2],\n",
    "                  'T': [ 0, -1,  0, -1, -1, -1, -1, -2, -2, -1, -1, -1, -1, -2, -1,  2,  5, -3, -2,  0],\n",
    "                  'W': [-3, -3, -4, -5, -5, -1, -3, -3, -3, -3, -2, -3, -1,  1, -4, -4, -3, 15,  2, -3],\n",
    "                  'Y': [-2, -1, -2, -3, -3, -1, -2, -3,  2, -1, -1, -2,  0,  4, -3, -2, -2,  2,  8, -1],\n",
    "                  'V': [ 0, -3, -3, -4, -1, -3, -3, -4, -4,  4,  1, -3,  1, -1, -3, -2,  0, -3, -1,  5],\n",
    "                  '-': [-5, -5, -5, -5, -5, -5, -5, -5, -5, -5, -5, -5, -5, -5, -5, -5, -5, -5, -5, -5]}\n",
    "amino_acids    = ('G', 'A', 'V', 'L', 'I', 'M', 'F', 'W', 'P', 'S',\n",
    "                  'T', 'C', 'Y', 'N', 'Q', 'D', 'E', 'K', 'R', 'H',)\n",
    "\n",
    "SSnetsurfp     = ('H', 'E', 'C',)\n",
    "# NETSURFP_BIN  = os.environ.get('NETSURFP_BIN',  'netsurfp')\n",
    "NETSURFP_BIN  = '/mnt/c/Users/xinyu/netsurfp-1.0/netsurfp'\n",
    "RF_MODEL      = None"
   ]
  },
  {
   "cell_type": "code",
   "execution_count": 114,
   "metadata": {},
   "outputs": [
    {
     "data": {
      "text/plain": [
       "'/mnt/c/Users/xinyu/netsurfp-1.0/netsurfp'"
      ]
     },
     "execution_count": 114,
     "metadata": {},
     "output_type": "execute_result"
    }
   ],
   "source": [
    "NETSURFP_BIN"
   ]
  },
  {
   "cell_type": "code",
   "execution_count": 115,
   "metadata": {},
   "outputs": [],
   "source": [
    "def run_cmd(cmd, input_string=''):\n",
    "    \"\"\"Run the cmd with input_string as stdin and return output.\"\"\"\n",
    "    p = subprocess.Popen(cmd, stdout=subprocess.PIPE, stdin=subprocess.PIPE,\n",
    "                         stderr=subprocess.PIPE, universal_newlines=True, close_fds=True)\n",
    "    out, stderr = p.communicate(input=input_string)\n",
    "    if p.returncode:\n",
    "        raise Exception('Cmd {} failed: {}'.format(cmd[0], stderr))\n",
    "    return out"
   ]
  },
  {
   "cell_type": "code",
   "execution_count": 116,
   "metadata": {},
   "outputs": [],
   "source": [
    "def encode(char,code,sparse):\n",
    "    \"\"\" Encoding characters\n",
    "\n",
    "    Usage::\n",
    "        >>> char, code, sparse = 'A', 2, 'molecular'\n",
    "        >>> encode(char, code, sparse)\n",
    "        [-0.06, -0.4, 52.6]\n",
    "    \"\"\"\n",
    "\n",
    "    if code == 0:\n",
    "        return char\n",
    "    elif code == 1:\n",
    "        SS = SSnetsurfp\n",
    "        return encode_sparse(char, SS)\n",
    "    elif code == 2:\n",
    "        if sparse == 'sparse':\n",
    "            return encode_sparse(char, amino_acids)\n",
    "        elif sparse == 'blosum':\n",
    "            return BLOSUM50[char]\n",
    "        else:\n",
    "            return seq_to_codes(char)\n",
    "    elif code == 3:\n",
    "        return encode_sparse(char, antibody_chain)\n",
    "    elif code == 4:\n",
    "        return encode_sparse(char, CDRpos)\n",
    "    elif code == 5:\n",
    "        return [CDRindex.index(char)]"
   ]
  },
  {
   "cell_type": "code",
   "execution_count": 117,
   "metadata": {},
   "outputs": [],
   "source": [
    "def encode_sparse(char, types):\n",
    "    \"\"\"Sparse encode a character\"\"\"\n",
    "    \n",
    "    codings = {AA: [1 if i == j else 0 for j in range(len(types))]\n",
    "        for i, AA in enumerate(types)}\n",
    "    gap = [0] * len(types)\n",
    "\n",
    "    return codings.get(char.upper(), gap)"
   ]
  },
  {
   "cell_type": "code",
   "execution_count": 118,
   "metadata": {},
   "outputs": [],
   "source": [
    "def seq_to_codes(char):\n",
    "    \"\"\"Converts sequence to a list of polarity, hydrophobicity, volume\"\"\"\n",
    "    code = list()\n",
    "\n",
    "    try:\n",
    "        code = [POLARITY[char], HYDROPHOBICITY[char], VOLUME[char]]\n",
    "    except KeyError:\n",
    "        code = [0, 0, 0]\n",
    "\n",
    "    return code"
   ]
  },
  {
   "cell_type": "code",
   "execution_count": 119,
   "metadata": {},
   "outputs": [],
   "source": [
    "def rolling_mean(pred):\n",
    "    \"\"\"Performs the rolling window to smooth antigen predictions\n",
    "\n",
    "    Usage::\n",
    "        >>> predictions = [0.1,0.1,0.5,0.6,0.5]                            \n",
    "        >>> rolling_mean(predictions)\n",
    "        [0.20000000000000004, 0.20000000000000004, 0.19999999999999998, 0.20000000000000001, 0.19999999999999998]\n",
    "    \"\"\"\n",
    "    \n",
    "    _pred = list()\n",
    "\n",
    "    for i, p in enumerate(pred):\n",
    "        window = [p]\n",
    "\n",
    "        for j in range(4,0,-1):\n",
    "            if i-j < 0:\n",
    "                window.append(0)\n",
    "            else:\n",
    "                window.append(pred[i-j])\n",
    "        for j in range(1,5):\n",
    "            try:\n",
    "                window.append(pred[i+j])\n",
    "            except IndexError:\n",
    "                window.append(0)\n",
    "\n",
    "        _pred.append(np.mean(np.array(window)))\n",
    "\n",
    "    return _pred\n"
   ]
  },
  {
   "cell_type": "code",
   "execution_count": 120,
   "metadata": {},
   "outputs": [],
   "source": [
    "def get_neighbours(position, chain, surface, windowsize):\n",
    "    \"\"\"Returns the neighbours of a given residue in antigen sequence\"\"\"\n",
    "    \n",
    "    right_window = {'res': list(), 'rsa': list(), 'ss': list()}\n",
    "    left_window  = {'res': list(), 'rsa': list(), 'ss': list()}\n",
    "    window       = list()\n",
    "\n",
    "    for i in range(int((windowsize-1)/2),0,-1):\n",
    "        #Left side\n",
    "        if position-i < 0:\n",
    "            left_window['res'].extend('-')\n",
    "            left_window['rsa'].append(1.0)\n",
    "            left_window['ss'].extend('X')\n",
    "        else:\n",
    "            left_window['res'].extend(chain[position-i])\n",
    "            left_window['rsa'].append(surface[(position-i)+1][0][1])\n",
    "            left_window['ss'].extend(surface[(position-i)+1][1][0])\n",
    "\n",
    "        #Right side\n",
    "        try:\n",
    "            right_window['res'].extend(chain[position+i])\n",
    "            right_window['rsa'].append(surface[(position+i)+1][0][1])\n",
    "            right_window['ss'].extend(surface[(position+i)+1][1][0])\n",
    "        except IndexError:\n",
    "            right_window['res'].extend('-')\n",
    "            right_window['rsa'].append(1.0)\n",
    "            right_window['ss'].extend('X')\n",
    "    rsa_window = left_window['rsa'] + [surface[position+1][0][1]] + list(reversed(right_window['rsa']))\n",
    "    ss_window  = left_window['ss'] + [surface[position+1][1][0]] + list(reversed(right_window['ss']))\n",
    "    res_window = left_window['res'] + [chain[position]] + list(reversed(right_window['res']))\n",
    "  \n",
    "    encoded = list()\n",
    "    for res in res_window:\n",
    "        encoded.extend(seq_to_codes(res))\n",
    "    encoded.extend(rsa_window)\n",
    "    for ss in ss_window:\n",
    "        encoded.extend(encode_sparse(ss, SSnetsurfp))\n",
    "\n",
    "\n",
    "    return encoded"
   ]
  },
  {
   "cell_type": "code",
   "execution_count": 121,
   "metadata": {},
   "outputs": [],
   "source": [
    "def get_volume(chain):\n",
    "    \"\"\"Calculates the sequential volume from sequence\"\"\"\n",
    "\n",
    "    return sum([ VOLUME[res.upper()] for res in chain ])\n",
    "\n",
    "def get_surface(chain):\n",
    "    \"\"\"Predicts the surface accessibility from sequence\"\"\"\n",
    "    surface = dict()\n",
    "    tempfsa = tempfile.NamedTemporaryFile()\n",
    "    tmp_string = '>temp\\n{}'.format(chain).encode()\n",
    "#     print(tmp_string)\n",
    "    tempfsa.write(tmp_string)\n",
    "    tempfsa.flush()\n",
    "#     print(tempfsa.name)\n",
    "    out = run_cmd([NETSURFP_BIN, '-i', tempfsa.name, '-a'])\n",
    "    \n",
    "#     out = run_cmd([NETSURFP_BIN])\n",
    "    print(out)\n",
    "    out = out.split('\\n')\n",
    "    for line in out:\n",
    "        line = line.strip() \n",
    "        if line == '' or line[0] == '#':\n",
    "            continue\n",
    "        line = line.split()\n",
    "        ss = ''\n",
    "        index = 7\n",
    "        if len(line) < 10:\n",
    "            ss = 'X'\n",
    "            rsa = 'X'\n",
    "            index = 6\n",
    "            sspreds = [0.0, 0.0, 0.0]\n",
    "        elif float(line[index]) > float(line[index+1]) and float(line[index]) > float(line[index+2]):\n",
    "            ss = 'H'\n",
    "            rsa = line[0]\n",
    "            sspreds = [line[index], line[index+1], line[index+2]]\n",
    "        elif float(line[index+1]) > float(line[index]) and float(line[index+1]) > float(line[index+2]):\n",
    "            ss = 'E'\n",
    "            rsa = line[0]\n",
    "            sspreds = [line[index], line[index+1], line[index+2]]\n",
    "        elif float(line[index+2]) > float(line[index+1]) and float(line[index+2]) > float(line[index]):\n",
    "            ss = 'C'\n",
    "            rsa = line[0]\n",
    "            sspreds = [line[index], line[index+1], line[index+2]]\n",
    "\n",
    "        surface[int(line[index-4])] = [[rsa, float(line[index-3])], [ss]+sspreds]\n",
    "\n",
    "    return surface"
   ]
  },
  {
   "cell_type": "code",
   "execution_count": 122,
   "metadata": {},
   "outputs": [],
   "source": [
    "class Antigen(object):\n",
    "    \"\"\"\n",
    "    Class object of a single antigen sequence.\n",
    "    \"\"\"\n",
    "\n",
    "    def __init__(self, entry_name, sequence):\n",
    "        self.entry_name  = entry_name\n",
    "        self.sequence    = sequence.upper()\n",
    "        self.description = \"\"\n",
    "        self.features    = []\n",
    "        self.netsurfp    = {}\n",
    "        self.predicted   = []\n",
    "        \n",
    "    def pred_netsurfp(self):\n",
    "        \"\"\"Initialises a dict of list containing results from NetsurfP {POSITION: [RSA, SS],..}\"\"\"\n",
    "        try:\n",
    "            self.netsurfp = get_surface(self.sequence)\n",
    "        except:\n",
    "            err = 'NetsurfP ({}) failed to predict: {}\\n{}'\n",
    "            raise BPFeatureError(err.format(NETSURFP_BIN,self.entry_name, self.sequence))\n",
    "\n",
    "    def get_features(self):\n",
    "        \"\"\"Setups the features to predict sequence.\"\"\"\n",
    "\n",
    "        agvolume = get_volume(self.sequence)\n",
    "        dataset  = list()\n",
    "        for agpos in range(len(self.sequence)):\n",
    "            window = get_neighbours(agpos, self.sequence, self.netsurfp, 9)\n",
    "            dataset.append(window+[agvolume])\n",
    "\n",
    "        self.features = dataset\n",
    "\n",
    "    def predict(self):\n",
    "        \"\"\"\"\"\"\n",
    "        try:\n",
    "            preds = bp.utils.RF_MODEL.predict(self.features)\n",
    "        except:\n",
    "            err = 'RandomForest failed to predict: {}\\n{}'\n",
    "            raise bp.BPPredictError(err.format(self.entry_name, self.sequence))\n",
    "\n",
    "        self.predicted = rolling_mean(preds)"
   ]
  },
  {
   "cell_type": "code",
   "execution_count": 128,
   "metadata": {},
   "outputs": [],
   "source": [
    "name = '1'\n",
    "antigen_sequence = 'cdafvgtwKLVssenfddymkevgvgfatrkvagMAKpnmiisvngdlvtirsesTfknteisfklgvefdeitaddrkvksiitldggalvqvqkwdgksttikrkrdgdklvvecvmkgvtstrvyErA'\n",
    "antigen = Antigen(name, antigen_sequence)"
   ]
  },
  {
   "cell_type": "code",
   "execution_count": 129,
   "metadata": {
    "scrolled": false
   },
   "outputs": [
    {
     "name": "stdout",
     "output_type": "stream",
     "text": [
      "\n"
     ]
    }
   ],
   "source": [
    "antigen.pred_netsurfp()"
   ]
  },
  {
   "cell_type": "code",
   "execution_count": 97,
   "metadata": {},
   "outputs": [
    {
     "data": {
      "text/plain": [
       "'CDAFVGTWKLVSSENFDDYMKEVGVGFATRKVAGMAKPNMIISVNGDLVTIRSESTFKNTEISFKLGVEFDEITADDRKVKSIITLDGGALVQVQKWDGKSTTIKRKRDGDKLVVECVMKGVTSTRVYERA'"
      ]
     },
     "execution_count": 97,
     "metadata": {},
     "output_type": "execute_result"
    }
   ],
   "source": [
    "antigen.sequence"
   ]
  },
  {
   "cell_type": "code",
   "execution_count": null,
   "metadata": {},
   "outputs": [],
   "source": []
  },
  {
   "cell_type": "code",
   "execution_count": 130,
   "metadata": {},
   "outputs": [
    {
     "data": {
      "text/plain": [
       "{}"
      ]
     },
     "execution_count": 130,
     "metadata": {},
     "output_type": "execute_result"
    }
   ],
   "source": [
    "antigen.netsurfp"
   ]
  },
  {
   "cell_type": "code",
   "execution_count": null,
   "metadata": {},
   "outputs": [],
   "source": []
  },
  {
   "cell_type": "code",
   "execution_count": null,
   "metadata": {},
   "outputs": [],
   "source": []
  },
  {
   "cell_type": "code",
   "execution_count": null,
   "metadata": {},
   "outputs": [],
   "source": []
  }
 ],
 "metadata": {
  "kernelspec": {
   "display_name": "Python 3",
   "language": "python",
   "name": "python3"
  },
  "language_info": {
   "codemirror_mode": {
    "name": "ipython",
    "version": 3
   },
   "file_extension": ".py",
   "mimetype": "text/x-python",
   "name": "python",
   "nbconvert_exporter": "python",
   "pygments_lexer": "ipython3",
   "version": "3.7.4"
  }
 },
 "nbformat": 4,
 "nbformat_minor": 2
}
