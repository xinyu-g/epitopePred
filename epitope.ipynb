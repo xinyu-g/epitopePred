{
 "cells": [
  {
   "cell_type": "code",
   "execution_count": 1,
   "metadata": {},
   "outputs": [],
   "source": [
    "from tdc.single_pred import Epitope\n",
    "import torch\n",
    "import torch.nn as nn\n",
    "from torch.utils.data import Dataset, DataLoader\n",
    "from sklearn.metrics import roc_auc_score, precision_recall_curve\n",
    "from sklearn.metrics import roc_auc_score, f1_score, average_precision_score, precision_score, recall_score, accuracy_score\n",
    "from copy import deepcopy\n",
    "torch.manual_seed(1)\n",
    "import numpy as np\n",
    "from sklearn import metrics\n",
    "import matplotlib.pyplot as plt  \n",
    "from sklearn.metrics import roc_curve, auc\n",
    "from scipy import interp\n",
    "from sklearn.metrics import roc_auc_score \n",
    "from tdc.multi_pred import AntibodyAff\n",
    "from collections import defaultdict\n",
    "from tqdm import tqdm\n",
    "from torch.distributions import Categorical, Normal\n",
    "import numpy as np\n",
    "from scipy.integrate import quad\n",
    "from sklearn.neighbors import KernelDensity"
   ]
  },
  {
   "cell_type": "code",
   "execution_count": 2,
   "metadata": {},
   "outputs": [],
   "source": [
    "from matplotlib import pyplot\n",
    "from numpy.random import normal\n",
    "from numpy import hstack\n",
    "from numpy import asarray\n",
    "from numpy import exp\n",
    "from sklearn.neighbors import KernelDensity\n",
    "import statsmodels.api as sm"
   ]
  },
  {
   "cell_type": "code",
   "execution_count": 3,
   "metadata": {},
   "outputs": [],
   "source": [
    "import scipy\n",
    "import scipy.io as sio\n",
    "import matplotlib.pyplot as plt\n",
    "import numpy as np\n",
    "import scipy as scp\n",
    "from scipy import fftpack\n",
    "from scipy import signal\n",
    "import pickle\n",
    "import os\n",
    "from IPython.display import Math, Latex\n",
    "from IPython.core.display import Image\n",
    "import seaborn as sns\n",
    "from scipy import stats\n",
    "from statistics import variance"
   ]
  },
  {
   "cell_type": "code",
   "execution_count": 4,
   "metadata": {},
   "outputs": [],
   "source": [
    "# data = AntibodyAff(name = 'Protein_SAbDab')\n",
    "# split = data.get_split()"
   ]
  },
  {
   "cell_type": "code",
   "execution_count": 4,
   "metadata": {},
   "outputs": [
    {
     "name": "stderr",
     "output_type": "stream",
     "text": [
      "Found local copy...\n",
      "Loading...\n",
      "Done!\n"
     ]
    }
   ],
   "source": [
    "data =  Epitope(name = 'IEDB_Jespersen')\n",
    "split = data.get_split()"
   ]
  },
  {
   "cell_type": "code",
   "execution_count": 5,
   "metadata": {},
   "outputs": [],
   "source": [
    "train_data = split['train']\n",
    "valid_data = split['valid']\n",
    "test_data = split['test']"
   ]
  },
  {
   "cell_type": "code",
   "execution_count": 6,
   "metadata": {},
   "outputs": [
    {
     "data": {
      "text/html": [
       "<div>\n",
       "<style scoped>\n",
       "    .dataframe tbody tr th:only-of-type {\n",
       "        vertical-align: middle;\n",
       "    }\n",
       "\n",
       "    .dataframe tbody tr th {\n",
       "        vertical-align: top;\n",
       "    }\n",
       "\n",
       "    .dataframe thead th {\n",
       "        text-align: right;\n",
       "    }\n",
       "</style>\n",
       "<table border=\"1\" class=\"dataframe\">\n",
       "  <thead>\n",
       "    <tr style=\"text-align: right;\">\n",
       "      <th></th>\n",
       "      <th>Antigen_ID</th>\n",
       "      <th>Antigen</th>\n",
       "      <th>Y</th>\n",
       "    </tr>\n",
       "  </thead>\n",
       "  <tbody>\n",
       "    <tr>\n",
       "      <td>0</td>\n",
       "      <td>Protein 2</td>\n",
       "      <td>MSDLTDIQEDITRHEQQLIVARQKLKDAERAVEVDPDDVNKNTLQA...</td>\n",
       "      <td>[312, 313, 314, 315, 316, 317, 318, 319, 320, ...</td>\n",
       "    </tr>\n",
       "    <tr>\n",
       "      <td>1</td>\n",
       "      <td>Protein 3</td>\n",
       "      <td>MAEGFAANRQWIGPEEAEELLDFDIAIQMNEEGPLNPGVNPFRVPG...</td>\n",
       "      <td>[585, 586, 587, 588, 589, 590, 591, 592, 593, ...</td>\n",
       "    </tr>\n",
       "    <tr>\n",
       "      <td>2</td>\n",
       "      <td>Protein 4</td>\n",
       "      <td>MSKKPGGPGKSRAVNMLKRGMPRVLSLTGLKRAMLSLIDGRGPTRF...</td>\n",
       "      <td>[811, 812, 813, 814, 815, 816, 817, 818, 819, ...</td>\n",
       "    </tr>\n",
       "    <tr>\n",
       "      <td>3</td>\n",
       "      <td>Protein 5</td>\n",
       "      <td>MKLLILTCLVAVALARPKHPIKHQGLPQEVLNENLLRFFVAPFPEV...</td>\n",
       "      <td>[55, 56, 57, 58, 59, 60, 61, 62, 63, 64]</td>\n",
       "    </tr>\n",
       "    <tr>\n",
       "      <td>4</td>\n",
       "      <td>Protein 7</td>\n",
       "      <td>MNTLLLTLVVVTIVCLDFGYTTKCLTKFSPGLQTSQTCPAGQKICF...</td>\n",
       "      <td>[27, 28, 29, 30, 31, 32, 33, 34, 35, 36, 37, 3...</td>\n",
       "    </tr>\n",
       "    <tr>\n",
       "      <td>...</td>\n",
       "      <td>...</td>\n",
       "      <td>...</td>\n",
       "      <td>...</td>\n",
       "    </tr>\n",
       "    <tr>\n",
       "      <td>2206</td>\n",
       "      <td>Protein 3153</td>\n",
       "      <td>MSTVKAPTLPASIFRAYDIRRVVGDTLTAETAYWIGRAIGSESLAR...</td>\n",
       "      <td>[260, 261, 262, 263, 264, 265, 266, 267, 268, ...</td>\n",
       "    </tr>\n",
       "    <tr>\n",
       "      <td>2207</td>\n",
       "      <td>Protein 3154</td>\n",
       "      <td>DHTLFNTHSITTTTTMAKLTILVALALFLLAAHASARQQWEFQGDR...</td>\n",
       "      <td>[162, 163, 164, 165, 166, 167, 168, 169, 170, ...</td>\n",
       "    </tr>\n",
       "    <tr>\n",
       "      <td>2208</td>\n",
       "      <td>Protein 3155</td>\n",
       "      <td>MTNETIDQTTTPDQTDFVPQRFINNLQVAFIKVDNAVASFDPDQKP...</td>\n",
       "      <td>[722, 723, 724, 725, 726, 727, 728, 729, 730, ...</td>\n",
       "    </tr>\n",
       "    <tr>\n",
       "      <td>2209</td>\n",
       "      <td>Protein 3156</td>\n",
       "      <td>CLSPGSSCSPTSYNCCRSCNPYSRKC</td>\n",
       "      <td>[10, 11, 12, 13, 14, 15, 16, 17, 18, 19]</td>\n",
       "    </tr>\n",
       "    <tr>\n",
       "      <td>2210</td>\n",
       "      <td>Protein 3157</td>\n",
       "      <td>MMASPFALLMALVVLSCKSSCSLGCDLPETHSLDNRRTLMLLAQMS...</td>\n",
       "      <td>[158, 159, 160, 161, 162, 163, 164, 165, 166, ...</td>\n",
       "    </tr>\n",
       "  </tbody>\n",
       "</table>\n",
       "<p>2211 rows × 3 columns</p>\n",
       "</div>"
      ],
      "text/plain": [
       "        Antigen_ID                                            Antigen  \\\n",
       "0        Protein 2  MSDLTDIQEDITRHEQQLIVARQKLKDAERAVEVDPDDVNKNTLQA...   \n",
       "1        Protein 3  MAEGFAANRQWIGPEEAEELLDFDIAIQMNEEGPLNPGVNPFRVPG...   \n",
       "2        Protein 4  MSKKPGGPGKSRAVNMLKRGMPRVLSLTGLKRAMLSLIDGRGPTRF...   \n",
       "3        Protein 5  MKLLILTCLVAVALARPKHPIKHQGLPQEVLNENLLRFFVAPFPEV...   \n",
       "4        Protein 7  MNTLLLTLVVVTIVCLDFGYTTKCLTKFSPGLQTSQTCPAGQKICF...   \n",
       "...            ...                                                ...   \n",
       "2206  Protein 3153  MSTVKAPTLPASIFRAYDIRRVVGDTLTAETAYWIGRAIGSESLAR...   \n",
       "2207  Protein 3154  DHTLFNTHSITTTTTMAKLTILVALALFLLAAHASARQQWEFQGDR...   \n",
       "2208  Protein 3155  MTNETIDQTTTPDQTDFVPQRFINNLQVAFIKVDNAVASFDPDQKP...   \n",
       "2209  Protein 3156                         CLSPGSSCSPTSYNCCRSCNPYSRKC   \n",
       "2210  Protein 3157  MMASPFALLMALVVLSCKSSCSLGCDLPETHSLDNRRTLMLLAQMS...   \n",
       "\n",
       "                                                      Y  \n",
       "0     [312, 313, 314, 315, 316, 317, 318, 319, 320, ...  \n",
       "1     [585, 586, 587, 588, 589, 590, 591, 592, 593, ...  \n",
       "2     [811, 812, 813, 814, 815, 816, 817, 818, 819, ...  \n",
       "3              [55, 56, 57, 58, 59, 60, 61, 62, 63, 64]  \n",
       "4     [27, 28, 29, 30, 31, 32, 33, 34, 35, 36, 37, 3...  \n",
       "...                                                 ...  \n",
       "2206  [260, 261, 262, 263, 264, 265, 266, 267, 268, ...  \n",
       "2207  [162, 163, 164, 165, 166, 167, 168, 169, 170, ...  \n",
       "2208  [722, 723, 724, 725, 726, 727, 728, 729, 730, ...  \n",
       "2209           [10, 11, 12, 13, 14, 15, 16, 17, 18, 19]  \n",
       "2210  [158, 159, 160, 161, 162, 163, 164, 165, 166, ...  \n",
       "\n",
       "[2211 rows x 3 columns]"
      ]
     },
     "execution_count": 6,
     "metadata": {},
     "output_type": "execute_result"
    }
   ],
   "source": [
    "train_data"
   ]
  },
  {
   "cell_type": "code",
   "execution_count": 7,
   "metadata": {},
   "outputs": [],
   "source": [
    "seqs = train_data['Antigen'].tolist()"
   ]
  },
  {
   "cell_type": "code",
   "execution_count": 8,
   "metadata": {},
   "outputs": [
    {
     "data": {
      "text/plain": [
       "'MKLLILTCLVAVALARPKHPIKHQGLPQEVLNENLLRFFVAPFPEVFGKEKVNELSKDIGSESTEDQAMEDIKQMEAESISSSEEIVPNSVEQKHIQKEDVPSERYLGYLEQLLRLKKYKVPQLEIVPNSAEERLHSMKEGIHAQQKEPMIGVNQELAYFYPELFRQFYQLDAYPSGAWYYVPLGTQYTDAPSFSDIPNPIGSENSEKTTMPLW'"
      ]
     },
     "execution_count": 8,
     "metadata": {},
     "output_type": "execute_result"
    }
   ],
   "source": [
    "seqs[3]"
   ]
  },
  {
   "cell_type": "code",
   "execution_count": 43,
   "metadata": {},
   "outputs": [
    {
     "data": {
      "image/png": "[encoded data removed]",
      "text/plain": [
       "<Figure size 432x288 with 1 Axes>"
      ]
     },
     "metadata": {
      "needs_background": "light"
     },
     "output_type": "display_data"
    }
   ],
   "source": [
    "seqs = train_data['Antigen'].tolist()\n",
    "seqs = [len(seq)*1.0 for seq in seqs]\n",
    "minlen = min(seqs)\n",
    "maxlen = max(seqs)\n",
    "seqs.remove(maxlen)\n",
    "maxlen = max(seqs)\n",
    "values = asarray([value for value in range(0, 2000)])\n",
    "values = values.reshape((len(values), 1))\n",
    "\n",
    "sample = np.array(seqs)\n",
    "sample = sample.reshape((len(sample), 1))\n",
    "model = KernelDensity(bandwidth=1, kernel='linear')\n",
    "model.fit(sample)\n",
    "probabilities = model.score_samples(values)\n",
    "probabilities = exp(probabilities)\n",
    "pyplot.hist(sample, density=True)\n",
    "pyplot.plot(values[:], probabilities)\n",
    "pyplot.xlim(0, 2000)\n",
    "pyplot.show()\n"
   ]
  },
  {
   "cell_type": "code",
   "execution_count": 42,
   "metadata": {},
   "outputs": [
    {
     "name": "stdout",
     "output_type": "stream",
     "text": [
      "TL;DR version - Mean: 624.1984734684842\n",
      "Integration version - Mean: (nan, nan)\n",
      "TL;DR version - Variance: 569500.5456861544\n",
      "Integration version - Variance: nan\n"
     ]
    }
   ],
   "source": [
    "kde = sm.nonparametric.KDEUnivariate(sample)\n",
    "kde.fit(kernel='uni', bw=100, fft=False)\n",
    "mean1 = np.dot(kde.density, kde.support) / kde.density.sum()\n",
    "mean2 = scipy.integrate.quad(lambda x: kde.evaluate(x)  * x, kde.support[0], kde.support[-1])\n",
    "print('TL;DR version - Mean:', mean1)\n",
    "print('Integration version - Mean:', mean2)\n",
    "\n",
    "print('TL;DR version - Variance:', np.dot(kde.density, kde.support**2) / kde.density.sum() - mean1**2)\n",
    "print('Integration version - Variance:', scipy.integrate.quad(lambda x: kde.evaluate(x)  * x**2, kde.support[0], kde.support[-1])[0] - mean2[0]**2)"
   ]
  },
  {
   "cell_type": "code",
   "execution_count": 48,
   "metadata": {},
   "outputs": [
    {
     "name": "stdout",
     "output_type": "stream",
     "text": [
      "Mean:\n",
      "Integration: 623.9941176470431\n",
      "Monte Carlo: 624.2214106281475\n",
      "\n",
      "Variance\n",
      "Integration: 575582.0420468501\n",
      "Monte Carlo: 576234.8216550958\n",
      "\n"
     ]
    },
    {
     "data": {
      "image/png": "[encoded data removed]",
      "text/plain": [
       "<Figure size 432x288 with 1 Axes>"
      ]
     },
     "metadata": {
      "needs_background": "light"
     },
     "output_type": "display_data"
    }
   ],
   "source": [
    "kde = KernelDensity(kernel='gaussian', bandwidth=100).fit(sample)\n",
    "pdf = lambda x : np.exp(kde.score_samples([[x]]))[0]\n",
    "mean_integration = quad(lambda x: x * pdf(x), a=-np.inf, b=np.inf)[0]\n",
    "variance_integration = quad(lambda x: (x ** 2) * pdf(x), a=-np.inf, b=np.inf)[0] - mean_integration ** 2\n",
    "n_samples = 10000000\n",
    "samples = kde.sample(n_samples)\n",
    "\n",
    "mean_mc = samples.mean()\n",
    "variance_mc = samples.var()\n",
    "\n",
    "\n",
    "print('Mean:\\nIntegration: {}\\nMonte Carlo: {}\\n'.format(mean_integration, mean_mc))\n",
    "print('Variance\\nIntegration: {}\\nMonte Carlo: {}\\n'.format(variance_integration, variance_mc))\n",
    "plt.figure()\n",
    "ax = sns.kdeplot(np.array(seqs), label='seqlens')"
   ]
  },
  {
   "cell_type": "code",
   "execution_count": 55,
   "metadata": {},
   "outputs": [
    {
     "data": {
      "text/plain": [
       "list"
      ]
     },
     "execution_count": 55,
     "metadata": {},
     "output_type": "execute_result"
    }
   ],
   "source": [
    "type(seqs)"
   ]
  },
  {
   "cell_type": "code",
   "execution_count": 61,
   "metadata": {},
   "outputs": [
    {
     "name": "stdout",
     "output_type": "stream",
     "text": [
      "Mean:\n",
      "Integration: 14.44504748982286\n",
      "Monte Carlo: 14.445024951964346\n",
      "\n",
      "Variance\n",
      "Integration: 30.18320817278874\n",
      "Monte Carlo: 30.213389873853266\n",
      "\n"
     ]
    },
    {
     "data": {
      "image/png": "[encoded data removed]",
      "text/plain": [
       "<Figure size 432x288 with 1 Axes>"
      ]
     },
     "metadata": {
      "needs_background": "light"
     },
     "output_type": "display_data"
    }
   ],
   "source": [
    "labels = train_data['Y'].tolist()\n",
    "labels = [len(y) for y in labels]\n",
    "minlen = min(labels)\n",
    "maxlen = max(labels)\n",
    "ysample = np.array(labels)\n",
    "ysample = ysample.reshape((len(ysample), 1))\n",
    "\n",
    "kde = KernelDensity(kernel='gaussian', bandwidth=1).fit(ysample)\n",
    "pdf = lambda x : np.exp(kde.score_samples([[x]]))[0]\n",
    "mean_integration = quad(lambda x: x * pdf(x), a=-np.inf, b=np.inf)[0]\n",
    "variance_integration = quad(lambda x: (x ** 2) * pdf(x), a=-np.inf, b=np.inf)[0] - mean_integration ** 2\n",
    "n_samples = 10000000\n",
    "samples = kde.sample(n_samples)\n",
    "\n",
    "mean_mc = samples.mean()\n",
    "variance_mc = samples.var()\n",
    "print('Mean:\\nIntegration: {}\\nMonte Carlo: {}\\n'.format(mean_integration, mean_mc))\n",
    "print('Variance\\nIntegration: {}\\nMonte Carlo: {}\\n'.format(variance_integration, variance_mc))\n",
    "plt.figure()\n",
    "ax = sns.kdeplot(np.array(labels), label='labels len')\n",
    "\n"
   ]
  },
  {
   "cell_type": "code",
   "execution_count": 63,
   "metadata": {},
   "outputs": [
    {
     "name": "stdout",
     "output_type": "stream",
     "text": [
      "TL;DR version - Mean: 14.44540223806401\n",
      "Integration version - Mean: (nan, nan)\n",
      "TL;DR version - Variance: 29.562605894920154\n",
      "Integration version - Variance: nan\n"
     ]
    }
   ],
   "source": [
    "kde = sm.nonparametric.KDEUnivariate(ysample)\n",
    "kde.fit(kernel='uni', bw=1, fft=False)\n",
    "mean1 = np.dot(kde.density, kde.support) / kde.density.sum()\n",
    "mean2 = scipy.integrate.quad(lambda x: kde.evaluate(x)  * x, kde.support[0], kde.support[-1])\n",
    "print('TL;DR version - Mean:', mean1)\n",
    "print('Integration version - Mean:', mean2)\n",
    "\n",
    "print('TL;DR version - Variance:', np.dot(kde.density, kde.support**2) / kde.density.sum() - mean1**2)\n",
    "print('Integration version - Variance:', scipy.integrate.quad(lambda x: kde.evaluate(x)  * x**2, kde.support[0], kde.support[-1])[0] - mean2[0]**2)"
   ]
  },
  {
   "cell_type": "code",
   "execution_count": 62,
   "metadata": {},
   "outputs": [
    {
     "data": {
      "image/png": "[encoded data removed]",
      "text/plain": [
       "<Figure size 432x288 with 1 Axes>"
      ]
     },
     "metadata": {
      "needs_background": "light"
     },
     "output_type": "display_data"
    }
   ],
   "source": [
    "values = asarray([value for value in range(minlen, maxlen)])\n",
    "values = values.reshape((len(values), 1))\n",
    "\n",
    "sample = np.array(labels)\n",
    "sample = sample.reshape((len(labels), 1))\n",
    "model = KernelDensity(bandwidth=1, kernel='gaussian')\n",
    "model.fit(sample)\n",
    "probabilities = model.score_samples(values)\n",
    "probabilities = exp(probabilities)\n",
    "pyplot.hist(sample, density=True)\n",
    "pyplot.plot(values[:], probabilities)\n",
    "# pyplot.xlim(0, 2000)\n",
    "pyplot.show()"
   ]
  },
  {
   "cell_type": "code",
   "execution_count": 72,
   "metadata": {},
   "outputs": [
    {
     "data": {
      "text/plain": [
       "14.445047489823608"
      ]
     },
     "execution_count": 72,
     "metadata": {},
     "output_type": "execute_result"
    }
   ],
   "source": [
    "val, cnt = np.unique(labels, return_counts=True)\n",
    "prop = cnt / len(labels)\n",
    "EV = [val[i]*prop[i] for i in range(len(val))]\n",
    "sum(EV)"
   ]
  },
  {
   "cell_type": "code",
   "execution_count": 80,
   "metadata": {},
   "outputs": [
    {
     "name": "stdout",
     "output_type": "stream",
     "text": [
      "tensor([11.3583, 10.4629, 10.5686, 10.6753,  9.7731,  9.8718,  9.9715, 10.0722,\n",
      "         9.1639,  8.2463,  7.3195,  6.3834,  5.4377,  5.4927,  5.5481,  5.6042,\n",
      "         5.6608,  4.7079,  4.7554,  4.8035,  4.8520,  4.9010,  3.9404,  2.9701,\n",
      "         1.9900,  1.0000])\n"
     ]
    },
    {
     "data": {
      "text/plain": [
       "tensor([ 1.5604,  1.2571,  1.2929,  1.3291,  1.0235,  1.0569,  1.0907,  1.1248,\n",
       "         0.8171,  0.5064,  0.1925, -0.1246, -0.4448, -0.4262, -0.4075, -0.3885,\n",
       "        -0.3693, -0.6920, -0.6759, -0.6597, -0.6432, -0.6266, -0.9520, -1.2806,\n",
       "        -1.6125, -1.9478])"
      ]
     },
     "execution_count": 80,
     "metadata": {},
     "output_type": "execute_result"
    }
   ],
   "source": [
    "rewards_episode = [1,0,0,1,0,0,0,1,1,1,1,1,0,0,0,0,1,0,0,0,0,1,1,1,1,1]\n",
    "gamma = 0.99\n",
    "R = 0\n",
    "rewards = []\n",
    "for r in rewards_episode[::-1]:\n",
    "        R = r + gamma * R\n",
    "        rewards.insert(0,R)\n",
    "rewards = torch.FloatTensor(rewards)\n",
    "print(rewards)\n",
    "rewards = (rewards - rewards.mean()) / (rewards.std() + float(np.finfo(np.float32).eps))\n",
    "rewards"
   ]
  },
  {
   "cell_type": "code",
   "execution_count": 105,
   "metadata": {},
   "outputs": [
    {
     "data": {
      "text/plain": [
       "tensor([3., 6.])"
      ]
     },
     "execution_count": 105,
     "metadata": {},
     "output_type": "execute_result"
    }
   ],
   "source": [
    "a = torch.FloatTensor([2,3])\n",
    "b = torch.FloatTensor([1,3])\n",
    "a+b"
   ]
  },
  {
   "cell_type": "code",
   "execution_count": 78,
   "metadata": {},
   "outputs": [],
   "source": [
    "# def to_protlists(data):\n",
    "\n",
    "#     protlists = list()\n",
    "#     temp_dict = data.to_dict(\"records\")\n",
    "#     for record in temp_dict:\n",
    "#         protlist = defaultdict(list)\n",
    "#         antigen = record['Antigen_ID']\n",
    "#         seq = record['Antigen']\n",
    "#         desc = ''\n",
    "#         protlist[antigen].append(desc)\n",
    "#         protlist[antigen].append(seq)\n",
    "\n",
    "#         protlists.append(protlist)\n",
    "        \n",
    "#     return protlists"
   ]
  },
  {
   "cell_type": "code",
   "execution_count": 79,
   "metadata": {},
   "outputs": [
    {
     "data": {
      "text/plain": [
       "34350"
      ]
     },
     "execution_count": 79,
     "metadata": {},
     "output_type": "execute_result"
    }
   ],
   "source": [
    "lst = train_data['Antigen'].tolist()\n",
    "maxlen = max([len(A) for A in lst])\n",
    "maxlen"
   ]
  },
  {
   "cell_type": "code",
   "execution_count": 89,
   "metadata": {},
   "outputs": [],
   "source": [
    "X = 'Antigen'"
   ]
  },
  {
   "cell_type": "code",
   "execution_count": 82,
   "metadata": {},
   "outputs": [],
   "source": [
    "def data2vocab(data):\n",
    "\tlength = len(data)\n",
    "\tvocab_set = set()\n",
    "\ttotal_length, positive_num = 0, 0\n",
    "\tfor i in range(length):\n",
    "\t\tantigen = data[X][i]\n",
    "\t\tvocab_set = vocab_set.union(set(antigen))\n",
    "\t\tY = data['Y'][i]\n",
    "\t\tassert len(antigen) > max(Y)\n",
    "\t\ttotal_length += len(antigen)\n",
    "\t\tpositive_num += len(Y)\n",
    "\treturn vocab_set, positive_num / total_length"
   ]
  },
  {
   "cell_type": "code",
   "execution_count": 83,
   "metadata": {},
   "outputs": [],
   "source": [
    "train_vocab, train_positive_ratio = data2vocab(train_data)\n",
    "valid_vocab, valid_positive_ratio = data2vocab(valid_data)\n",
    "test_vocab, test_positive_ratio = data2vocab(test_data)"
   ]
  },
  {
   "cell_type": "code",
   "execution_count": 84,
   "metadata": {},
   "outputs": [],
   "source": [
    "vocab_set = train_vocab.union(valid_vocab)\n",
    "vocab_set = vocab_set.union(test_vocab)\n",
    "vocab_lst = list(vocab_set)\n",
    "# logger"
   ]
  },
  {
   "cell_type": "code",
   "execution_count": 82,
   "metadata": {},
   "outputs": [],
   "source": [
    "def onehot(idx, length):\n",
    "\tlst = [0 for i in range(length)]\n",
    "\tlst[idx] = 1\n",
    "\treturn lst \n",
    "\n",
    "def zerohot(length):\n",
    "\treturn [0 for i in range(length)]\n",
    "\n",
    "# what is the maxlength here\n",
    "def standardize_data(data, vocab_lst, maxlength = 300):\n",
    "\tlength = len(data)\n",
    "\tstandard_data = []\n",
    "\tfor i in range(length):\n",
    "\t\tantigen = data[X][i]\n",
    "\t\tY = data['Y'][i] \n",
    "\t\tsequence = [onehot(vocab_lst.index(s), len(vocab_lst)) for s in antigen] \n",
    "\t\tlabels = [0 for i in range(len(antigen))]\n",
    "\t\tmask = [True for i in range(len(labels))] # labels and mask have the same length\n",
    "\t\tsequence += (maxlength-len(sequence)) * [zerohot(len(vocab_lst))] #pad to consistent length\n",
    "\t\tlabels += (maxlength-len(labels)) * [0] \n",
    "\t\tmask += (maxlength-len(mask)) * [False] # pad to maxlength\n",
    "\t\tfor y in Y:\n",
    "\t\t\tlabels[y] = 1 \t\t\n",
    "\t\tsequence, labels, mask = sequence[:maxlength], labels[:maxlength], mask[:maxlength]\n",
    "\t\tsequence, labels, mask = torch.FloatTensor(sequence), torch.FloatTensor(labels), torch.BoolTensor(mask) \n",
    "\t\t# print(sequence.shape, labels.shape, mask.shape)\n",
    "        # sequence is 2D, labels and mask are 1D\n",
    "\t\tstandard_data.append((sequence, labels, mask))\n",
    "\treturn standard_data "
   ]
  },
  {
   "cell_type": "code",
   "execution_count": 86,
   "metadata": {},
   "outputs": [],
   "source": [
    "# def standardize_data2(data, vocab_lst):\n",
    "# \tlength = len(data)\n",
    "# \tstandard_data = []\n",
    "# \tfor i in range(length):\n",
    "# \t\tantigen = data[X][i]\n",
    "# \t\tY = data['Y'][i] \n",
    "# \t\tsequence = [onehot(vocab_lst.index(s), len(vocab_lst)) for s in antigen] \n",
    "# \t\tlabels = [0 for i in range(len(antigen))]\n",
    "# \t\tmask = [True for i in range(len(labels))] # labels and mask have the same length\n",
    "# # \t\tsequence += (maxlength-len(sequence)) * [zerohot(len(vocab_lst))] #pad to consistent length\n",
    "# # \t\tlabels += (maxlength-len(labels)) * [0] \n",
    "# # \t\tmask += (maxlength-len(mask)) * [False] # pad to maxlength\n",
    "# \t\tfor y in Y:\n",
    "# \t\t\tlabels[y] = 1 \t\t\n",
    "# # \t\tsequence, labels, mask = sequence[:maxlength], labels[:maxlength], mask[:maxlength]\n",
    "# \t\tsequence, labels, mask = torch.FloatTensor(sequence), torch.FloatTensor(labels), torch.BoolTensor(mask) \n",
    "# \t\t# print(sequence.shape, labels.shape, mask.shape)\n",
    "#         # sequence is 2D, labels and mask are 1D\n",
    "# \t\tstandard_data.append((sequence, labels, mask))\n",
    "# \treturn standard_data "
   ]
  },
  {
   "cell_type": "code",
   "execution_count": 84,
   "metadata": {},
   "outputs": [],
   "source": [
    "# train_data_stand2 = standardize_data2(train_data, vocab_lst)\n",
    "# valid_data_stand2 = standardize_data2(valid_data, vocab_lst)\n",
    "# test_data_stand2 = standardize_data2(test_data, vocab_lst)\n",
    "vocab_lst = ['A', 'R', 'N', 'D', 'C', 'Q', 'E', 'G', 'H', 'I', 'L', 'K', 'M', 'F', 'P', 'S', 'T', 'W', 'Y', 'V', 'X', 'B', 'Z', 'J']"
   ]
  },
  {
   "cell_type": "code",
   "execution_count": 107,
   "metadata": {},
   "outputs": [],
   "source": [
    "train_data_stand = standardize_data(train_data, vocab_lst)\n",
    "valid_data_stand = standardize_data(valid_data, vocab_lst)\n",
    "test_data_stand = standardize_data(test_data, vocab_lst)"
   ]
  },
  {
   "cell_type": "code",
   "execution_count": 108,
   "metadata": {},
   "outputs": [],
   "source": [
    "class dataset(Dataset):\n",
    "\tdef __init__(self, data):\n",
    "\t\tself.sequences = [i[0] for i in data]\n",
    "\t\tself.labels = [i[1] for i in data]\n",
    "\t\tself.mask = [i[2] for i in data] \n",
    "\n",
    "\tdef __getitem__(self, index):\n",
    "\t\treturn self.sequences[index], self.labels[index], self.mask[index]\n",
    "\n",
    "\tdef __len__(self):\n",
    "\t\treturn len(self.labels)"
   ]
  },
  {
   "cell_type": "code",
   "execution_count": null,
   "metadata": {},
   "outputs": [],
   "source": []
  },
  {
   "cell_type": "code",
   "execution_count": 109,
   "metadata": {},
   "outputs": [],
   "source": [
    "train_set = dataset(train_data_stand)\n",
    "valid_set = dataset(valid_data_stand)\n",
    "test_set = dataset(test_data_stand)\n",
    "train_loader = DataLoader(train_set, batch_size=16, shuffle=True)\n",
    "test_loader = DataLoader(test_set, batch_size=16, shuffle=False)"
   ]
  },
  {
   "cell_type": "code",
   "execution_count": 110,
   "metadata": {
    "scrolled": false
   },
   "outputs": [
    {
     "name": "stderr",
     "output_type": "stream",
     "text": [
      "100%|██████████| 139/139 [00:00<00:00, 1440.68it/s]"
     ]
    },
    {
     "name": "stdout",
     "output_type": "stream",
     "text": [
      "torch.Size([16, 300, 24]) torch.Size([16, 300]) torch.Size([16, 300])\n",
      "torch.Size([16, 300, 24]) torch.Size([16, 300]) torch.Size([16, 300])\n",
      "torch.Size([16, 300, 24]) torch.Size([16, 300]) torch.Size([16, 300])\n",
      "torch.Size([16, 300, 24]) torch.Size([16, 300]) torch.Size([16, 300])\n",
      "torch.Size([16, 300, 24]) torch.Size([16, 300]) torch.Size([16, 300])\n",
      "torch.Size([16, 300, 24]) torch.Size([16, 300]) torch.Size([16, 300])\n",
      "torch.Size([16, 300, 24]) torch.Size([16, 300]) torch.Size([16, 300])\n",
      "torch.Size([16, 300, 24]) torch.Size([16, 300]) torch.Size([16, 300])\n",
      "torch.Size([16, 300, 24]) torch.Size([16, 300]) torch.Size([16, 300])\n",
      "torch.Size([16, 300, 24]) torch.Size([16, 300]) torch.Size([16, 300])\n",
      "torch.Size([16, 300, 24]) torch.Size([16, 300]) torch.Size([16, 300])\n",
      "torch.Size([16, 300, 24]) torch.Size([16, 300]) torch.Size([16, 300])\n",
      "torch.Size([16, 300, 24]) torch.Size([16, 300]) torch.Size([16, 300])\n",
      "torch.Size([16, 300, 24]) torch.Size([16, 300]) torch.Size([16, 300])\n",
      "torch.Size([16, 300, 24]) torch.Size([16, 300]) torch.Size([16, 300])\n",
      "torch.Size([16, 300, 24]) torch.Size([16, 300]) torch.Size([16, 300])\n",
      "torch.Size([16, 300, 24]) torch.Size([16, 300]) torch.Size([16, 300])\n",
      "torch.Size([16, 300, 24]) torch.Size([16, 300]) torch.Size([16, 300])\n",
      "torch.Size([16, 300, 24]) torch.Size([16, 300]) torch.Size([16, 300])\n",
      "torch.Size([16, 300, 24]) torch.Size([16, 300]) torch.Size([16, 300])\n",
      "torch.Size([16, 300, 24]) torch.Size([16, 300]) torch.Size([16, 300])\n",
      "torch.Size([16, 300, 24]) torch.Size([16, 300]) torch.Size([16, 300])\n",
      "torch.Size([16, 300, 24]) torch.Size([16, 300]) torch.Size([16, 300])\n",
      "torch.Size([16, 300, 24]) torch.Size([16, 300]) torch.Size([16, 300])\n",
      "torch.Size([16, 300, 24]) torch.Size([16, 300]) torch.Size([16, 300])\n",
      "torch.Size([16, 300, 24]) torch.Size([16, 300]) torch.Size([16, 300])\n",
      "torch.Size([16, 300, 24]) torch.Size([16, 300]) torch.Size([16, 300])\n",
      "torch.Size([16, 300, 24]) torch.Size([16, 300]) torch.Size([16, 300])\n",
      "torch.Size([16, 300, 24]) torch.Size([16, 300]) torch.Size([16, 300])\n",
      "torch.Size([16, 300, 24]) torch.Size([16, 300]) torch.Size([16, 300])\n",
      "torch.Size([16, 300, 24]) torch.Size([16, 300]) torch.Size([16, 300])\n",
      "torch.Size([16, 300, 24]) torch.Size([16, 300]) torch.Size([16, 300])\n",
      "torch.Size([16, 300, 24]) torch.Size([16, 300]) torch.Size([16, 300])\n",
      "torch.Size([16, 300, 24]) torch.Size([16, 300]) torch.Size([16, 300])\n",
      "torch.Size([16, 300, 24]) torch.Size([16, 300]) torch.Size([16, 300])\n",
      "torch.Size([16, 300, 24]) torch.Size([16, 300]) torch.Size([16, 300])\n",
      "torch.Size([16, 300, 24]) torch.Size([16, 300]) torch.Size([16, 300])\n",
      "torch.Size([16, 300, 24]) torch.Size([16, 300]) torch.Size([16, 300])\n",
      "torch.Size([16, 300, 24]) torch.Size([16, 300]) torch.Size([16, 300])\n",
      "torch.Size([16, 300, 24]) torch.Size([16, 300]) torch.Size([16, 300])\n",
      "torch.Size([16, 300, 24]) torch.Size([16, 300]) torch.Size([16, 300])\n",
      "torch.Size([16, 300, 24]) torch.Size([16, 300]) torch.Size([16, 300])\n",
      "torch.Size([16, 300, 24]) torch.Size([16, 300]) torch.Size([16, 300])\n",
      "torch.Size([16, 300, 24]) torch.Size([16, 300]) torch.Size([16, 300])\n",
      "torch.Size([16, 300, 24]) torch.Size([16, 300]) torch.Size([16, 300])\n",
      "torch.Size([16, 300, 24]) torch.Size([16, 300]) torch.Size([16, 300])\n",
      "torch.Size([16, 300, 24]) torch.Size([16, 300]) torch.Size([16, 300])\n",
      "torch.Size([16, 300, 24]) torch.Size([16, 300]) torch.Size([16, 300])\n",
      "torch.Size([16, 300, 24]) torch.Size([16, 300]) torch.Size([16, 300])\n",
      "torch.Size([16, 300, 24]) torch.Size([16, 300]) torch.Size([16, 300])\n",
      "torch.Size([16, 300, 24]) torch.Size([16, 300]) torch.Size([16, 300])\n",
      "torch.Size([16, 300, 24]) torch.Size([16, 300]) torch.Size([16, 300])\n",
      "torch.Size([16, 300, 24]) torch.Size([16, 300]) torch.Size([16, 300])\n",
      "torch.Size([16, 300, 24]) torch.Size([16, 300]) torch.Size([16, 300])\n",
      "torch.Size([16, 300, 24]) torch.Size([16, 300]) torch.Size([16, 300])\n",
      "torch.Size([16, 300, 24]) torch.Size([16, 300]) torch.Size([16, 300])\n",
      "torch.Size([16, 300, 24]) torch.Size([16, 300]) torch.Size([16, 300])\n",
      "torch.Size([16, 300, 24]) torch.Size([16, 300]) torch.Size([16, 300])\n",
      "torch.Size([16, 300, 24]) torch.Size([16, 300]) torch.Size([16, 300])\n",
      "torch.Size([16, 300, 24]) torch.Size([16, 300]) torch.Size([16, 300])\n",
      "torch.Size([16, 300, 24]) torch.Size([16, 300]) torch.Size([16, 300])\n",
      "torch.Size([16, 300, 24]) torch.Size([16, 300]) torch.Size([16, 300])\n",
      "torch.Size([16, 300, 24]) torch.Size([16, 300]) torch.Size([16, 300])\n",
      "torch.Size([16, 300, 24]) torch.Size([16, 300]) torch.Size([16, 300])\n",
      "torch.Size([16, 300, 24]) torch.Size([16, 300]) torch.Size([16, 300])\n",
      "torch.Size([16, 300, 24]) torch.Size([16, 300]) torch.Size([16, 300])\n",
      "torch.Size([16, 300, 24]) torch.Size([16, 300]) torch.Size([16, 300])\n",
      "torch.Size([16, 300, 24]) torch.Size([16, 300]) torch.Size([16, 300])\n",
      "torch.Size([16, 300, 24]) torch.Size([16, 300]) torch.Size([16, 300])\n",
      "torch.Size([16, 300, 24]) torch.Size([16, 300]) torch.Size([16, 300])\n",
      "torch.Size([16, 300, 24]) torch.Size([16, 300]) torch.Size([16, 300])\n",
      "torch.Size([16, 300, 24]) torch.Size([16, 300]) torch.Size([16, 300])\n",
      "torch.Size([16, 300, 24]) torch.Size([16, 300]) torch.Size([16, 300])\n",
      "torch.Size([16, 300, 24]) torch.Size([16, 300]) torch.Size([16, 300])\n",
      "torch.Size([16, 300, 24]) torch.Size([16, 300]) torch.Size([16, 300])\n",
      "torch.Size([16, 300, 24]) torch.Size([16, 300]) torch.Size([16, 300])\n",
      "torch.Size([16, 300, 24]) torch.Size([16, 300]) torch.Size([16, 300])\n",
      "torch.Size([16, 300, 24]) torch.Size([16, 300]) torch.Size([16, 300])\n",
      "torch.Size([16, 300, 24]) torch.Size([16, 300]) torch.Size([16, 300])\n",
      "torch.Size([16, 300, 24]) torch.Size([16, 300]) torch.Size([16, 300])\n",
      "torch.Size([16, 300, 24]) torch.Size([16, 300]) torch.Size([16, 300])\n",
      "torch.Size([16, 300, 24]) torch.Size([16, 300]) torch.Size([16, 300])\n",
      "torch.Size([16, 300, 24]) torch.Size([16, 300]) torch.Size([16, 300])\n",
      "torch.Size([16, 300, 24]) torch.Size([16, 300]) torch.Size([16, 300])\n",
      "torch.Size([16, 300, 24]) torch.Size([16, 300]) torch.Size([16, 300])\n",
      "torch.Size([16, 300, 24]) torch.Size([16, 300]) torch.Size([16, 300])\n",
      "torch.Size([16, 300, 24]) torch.Size([16, 300]) torch.Size([16, 300])\n",
      "torch.Size([16, 300, 24]) torch.Size([16, 300]) torch.Size([16, 300])\n",
      "torch.Size([16, 300, 24]) torch.Size([16, 300]) torch.Size([16, 300])\n",
      "torch.Size([16, 300, 24]) torch.Size([16, 300]) torch.Size([16, 300])\n",
      "torch.Size([16, 300, 24]) torch.Size([16, 300]) torch.Size([16, 300])\n",
      "torch.Size([16, 300, 24]) torch.Size([16, 300]) torch.Size([16, 300])\n",
      "torch.Size([16, 300, 24]) torch.Size([16, 300]) torch.Size([16, 300])\n",
      "torch.Size([16, 300, 24]) torch.Size([16, 300]) torch.Size([16, 300])\n",
      "torch.Size([16, 300, 24]) torch.Size([16, 300]) torch.Size([16, 300])\n",
      "torch.Size([16, 300, 24]) torch.Size([16, 300]) torch.Size([16, 300])\n",
      "torch.Size([16, 300, 24]) torch.Size([16, 300]) torch.Size([16, 300])\n",
      "torch.Size([16, 300, 24]) torch.Size([16, 300]) torch.Size([16, 300])\n",
      "torch.Size([16, 300, 24]) torch.Size([16, 300]) torch.Size([16, 300])\n",
      "torch.Size([16, 300, 24]) torch.Size([16, 300]) torch.Size([16, 300])\n",
      "torch.Size([16, 300, 24]) torch.Size([16, 300]) torch.Size([16, 300])\n",
      "torch.Size([16, 300, 24]) torch.Size([16, 300]) torch.Size([16, 300])\n",
      "torch.Size([16, 300, 24]) torch.Size([16, 300]) torch.Size([16, 300])\n",
      "torch.Size([16, 300, 24]) torch.Size([16, 300]) torch.Size([16, 300])\n",
      "torch.Size([16, 300, 24]) torch.Size([16, 300]) torch.Size([16, 300])\n",
      "torch.Size([16, 300, 24]) torch.Size([16, 300]) torch.Size([16, 300])\n",
      "torch.Size([16, 300, 24]) torch.Size([16, 300]) torch.Size([16, 300])\n",
      "torch.Size([16, 300, 24]) torch.Size([16, 300]) torch.Size([16, 300])\n",
      "torch.Size([16, 300, 24]) torch.Size([16, 300]) torch.Size([16, 300])\n",
      "torch.Size([16, 300, 24]) torch.Size([16, 300]) torch.Size([16, 300])\n",
      "torch.Size([16, 300, 24]) torch.Size([16, 300]) torch.Size([16, 300])\n",
      "torch.Size([16, 300, 24]) torch.Size([16, 300]) torch.Size([16, 300])\n",
      "torch.Size([16, 300, 24]) torch.Size([16, 300]) torch.Size([16, 300])\n",
      "torch.Size([16, 300, 24]) torch.Size([16, 300]) torch.Size([16, 300])\n",
      "torch.Size([16, 300, 24]) torch.Size([16, 300]) torch.Size([16, 300])\n",
      "torch.Size([16, 300, 24]) torch.Size([16, 300]) torch.Size([16, 300])\n",
      "torch.Size([16, 300, 24]) torch.Size([16, 300]) torch.Size([16, 300])\n",
      "torch.Size([16, 300, 24]) torch.Size([16, 300]) torch.Size([16, 300])\n",
      "torch.Size([16, 300, 24]) torch.Size([16, 300]) torch.Size([16, 300])\n",
      "torch.Size([16, 300, 24]) torch.Size([16, 300]) torch.Size([16, 300])\n",
      "torch.Size([16, 300, 24]) torch.Size([16, 300]) torch.Size([16, 300])\n",
      "torch.Size([16, 300, 24]) torch.Size([16, 300]) torch.Size([16, 300])\n",
      "torch.Size([16, 300, 24]) torch.Size([16, 300]) torch.Size([16, 300])\n",
      "torch.Size([16, 300, 24]) torch.Size([16, 300]) torch.Size([16, 300])\n",
      "torch.Size([16, 300, 24]) torch.Size([16, 300]) torch.Size([16, 300])\n",
      "torch.Size([16, 300, 24]) torch.Size([16, 300]) torch.Size([16, 300])\n",
      "torch.Size([16, 300, 24]) torch.Size([16, 300]) torch.Size([16, 300])\n",
      "torch.Size([16, 300, 24]) torch.Size([16, 300]) torch.Size([16, 300])\n",
      "torch.Size([16, 300, 24]) torch.Size([16, 300]) torch.Size([16, 300])\n",
      "torch.Size([16, 300, 24]) torch.Size([16, 300]) torch.Size([16, 300])\n",
      "torch.Size([16, 300, 24]) torch.Size([16, 300]) torch.Size([16, 300])\n",
      "torch.Size([16, 300, 24]) torch.Size([16, 300]) torch.Size([16, 300])\n",
      "torch.Size([16, 300, 24]) torch.Size([16, 300]) torch.Size([16, 300])\n",
      "torch.Size([16, 300, 24]) torch.Size([16, 300]) torch.Size([16, 300])\n",
      "torch.Size([16, 300, 24]) torch.Size([16, 300]) torch.Size([16, 300])\n",
      "torch.Size([16, 300, 24]) torch.Size([16, 300]) torch.Size([16, 300])\n",
      "torch.Size([16, 300, 24]) torch.Size([16, 300]) torch.Size([16, 300])\n",
      "torch.Size([16, 300, 24]) torch.Size([16, 300]) torch.Size([16, 300])\n",
      "torch.Size([3, 300, 24]) torch.Size([3, 300]) torch.Size([3, 300])\n"
     ]
    },
    {
     "name": "stderr",
     "output_type": "stream",
     "text": [
      "\n"
     ]
    }
   ],
   "source": [
    "for sequence, labels, mask in tqdm(train_loader):\n",
    "    \n",
    "    print(sequence.shape, labels.shape, mask.shape)\n",
    "# for batch, (x,y,z) in enumerate(train_loader):\n",
    "#         print(batch)"
   ]
  },
  {
   "cell_type": "code",
   "execution_count": 104,
   "metadata": {},
   "outputs": [
    {
     "data": {
      "text/plain": [
       "(torch.Size([2, 4]), torch.Size([2, 4, 3]))"
      ]
     },
     "execution_count": 104,
     "metadata": {},
     "output_type": "execute_result"
    }
   ],
   "source": [
    "embedding = nn.Embedding(10, 3)\n",
    "i = torch.LongTensor([[1,2,4,5],[4,3,2,9]])\n",
    "o = embedding(i)\n",
    "i.shape, o.shape"
   ]
  },
  {
   "cell_type": "code",
   "execution_count": 51,
   "metadata": {},
   "outputs": [
    {
     "data": {
      "text/plain": [
       "torch.utils.data.dataloader.DataLoader"
      ]
     },
     "execution_count": 51,
     "metadata": {},
     "output_type": "execute_result"
    }
   ],
   "source": [
    "type(train_loader)"
   ]
  },
  {
   "cell_type": "code",
   "execution_count": 21,
   "metadata": {},
   "outputs": [
    {
     "data": {
      "text/plain": [
       "torch.Size([300])"
      ]
     },
     "execution_count": 21,
     "metadata": {},
     "output_type": "execute_result"
    }
   ],
   "source": [
    "# train_data_stand[0][2].shape"
   ]
  },
  {
   "cell_type": "code",
   "execution_count": 28,
   "metadata": {},
   "outputs": [],
   "source": [
    "def plot(label_lst, predict_lst, name):\n",
    "\n",
    "    fpr, tpr, thresholds = metrics.roc_curve(label_lst, predict_lst, )\n",
    "    roc_auc = auc(fpr, tpr)\n",
    "\n",
    "    plt.figure()\n",
    "    lw = 2\n",
    "    plt.plot(fpr, tpr, color='darkorange', lw=lw, label='ROC curve (area = %0.2f)' % roc_auc)\n",
    "    plt.plot([0, 1], [0, 1], color='navy', lw=lw, linestyle='--')\n",
    "    plt.xlim([0.0, 1.0])\n",
    "    plt.ylim([0.0, 1.05])\n",
    "    plt.xlabel('False Positive Rate')\n",
    "    plt.ylabel('True Positive Rate')\n",
    "    plt.title('Receiver operating characteristic example')\n",
    "    plt.legend(loc=\"lower right\")\n",
    "    plt.savefig(name)"
   ]
  },
  {
   "cell_type": "code",
   "execution_count": 255,
   "metadata": {},
   "outputs": [
    {
     "data": {
      "text/plain": [
       "(tensor([-0.2493,  0.2576, -0.0780], requires_grad=True),\n",
       " tensor([1., 0., 0.]),\n",
       " tensor(0.7702, grad_fn=<BinaryCrossEntropyWithLogitsBackward>),\n",
       " None)"
      ]
     },
     "execution_count": 255,
     "metadata": {},
     "output_type": "execute_result"
    }
   ],
   "source": [
    "loss = nn.BCEWithLogitsLoss()\n",
    "input = torch.randn(3, requires_grad=True)\n",
    "target = torch.empty(3).random_(2)\n",
    "output = loss(input, target)\n",
    "input, target, output, output.backward()"
   ]
  },
  {
   "cell_type": "code",
   "execution_count": 256,
   "metadata": {},
   "outputs": [
    {
     "data": {
      "text/plain": [
       "tensor(-0.5674, grad_fn=<AddBackward0>)"
      ]
     },
     "execution_count": 256,
     "metadata": {},
     "output_type": "execute_result"
    }
   ],
   "source": [
    "n[0] + output"
   ]
  },
  {
   "cell_type": "code",
   "execution_count": 241,
   "metadata": {},
   "outputs": [
    {
     "data": {
      "text/plain": [
       "(tensor([[-1.1693, -1.0862,  0.2509, -2.3874]]),\n",
       " torch.Size([1, 4]),\n",
       " tensor([1.2722]),\n",
       " torch.Size([1]))"
      ]
     },
     "execution_count": 241,
     "metadata": {},
     "output_type": "execute_result"
    }
   ],
   "source": [
    "output = torch.FloatTensor([output.item()])\n",
    "c, c.shape, output, output.shape"
   ]
  },
  {
   "cell_type": "code",
   "execution_count": 245,
   "metadata": {},
   "outputs": [
    {
     "data": {
      "text/plain": [
       "torch.Size([1, 1])"
      ]
     },
     "execution_count": 245,
     "metadata": {},
     "output_type": "execute_result"
    }
   ],
   "source": [
    "output = torch.unsqueeze(output, 0)\n",
    "output.shape"
   ]
  },
  {
   "cell_type": "code",
   "execution_count": 251,
   "metadata": {},
   "outputs": [
    {
     "data": {
      "text/plain": [
       "tensor([[-1.1693, -1.0862,  0.2509, -2.3874,  1.2722]])"
      ]
     },
     "execution_count": 251,
     "metadata": {},
     "output_type": "execute_result"
    }
   ],
   "source": [
    "\n",
    "torch.cat((c,output), dim=1)"
   ]
  },
  {
   "cell_type": "code",
   "execution_count": 168,
   "metadata": {},
   "outputs": [
    {
     "data": {
      "text/plain": [
       "tensor(0)"
      ]
     },
     "execution_count": 168,
     "metadata": {},
     "output_type": "execute_result"
    }
   ],
   "source": [
    "m = Categorical(torch.tensor([ 0.25, 0.25, 0.25, 0.25]))\n",
    "m.sample()"
   ]
  },
  {
   "cell_type": "code",
   "execution_count": 208,
   "metadata": {},
   "outputs": [],
   "source": [
    "b = torch.randn(4, 1)\n",
    "c = torch.randn(1, 4)"
   ]
  },
  {
   "cell_type": "code",
   "execution_count": 209,
   "metadata": {},
   "outputs": [
    {
     "data": {
      "text/plain": [
       "(tensor([[-0.3045],\n",
       "         [-0.1741],\n",
       "         [ 0.1884],\n",
       "         [-1.2225]]),\n",
       " torch.Size([4, 1]),\n",
       " tensor([[-1.1693, -1.0862,  0.2509, -2.3874]]),\n",
       " torch.Size([1, 4]))"
      ]
     },
     "execution_count": 209,
     "metadata": {},
     "output_type": "execute_result"
    }
   ],
   "source": [
    "b, b.shape, c, c.shape"
   ]
  },
  {
   "cell_type": "code",
   "execution_count": 210,
   "metadata": {},
   "outputs": [
    {
     "data": {
      "text/plain": [
       "(tensor([[-0.3561, -0.3308,  0.0764, -0.7271],\n",
       "         [-0.2035, -0.1891,  0.0437, -0.4156],\n",
       "         [ 0.2203,  0.2046, -0.0473,  0.4498],\n",
       "         [-1.4295, -1.3279,  0.3067, -2.9186]]),\n",
       " tensor([-1.3376, -0.7645,  0.8275, -5.3694]))"
      ]
     },
     "execution_count": 210,
     "metadata": {},
     "output_type": "execute_result"
    }
   ],
   "source": [
    "loss = torch.mul(b, c).mul(-1)\n",
    "m = torch.sum(loss, dim=-1)\n",
    "loss, m"
   ]
  },
  {
   "cell_type": "code",
   "execution_count": 254,
   "metadata": {},
   "outputs": [
    {
     "data": {
      "text/plain": [
       "tensor(-1.3376)"
      ]
     },
     "execution_count": 254,
     "metadata": {},
     "output_type": "execute_result"
    }
   ],
   "source": [
    "n = torch.sum(torch.mul(b, c).mul(-1), -1)\n",
    "n[0]"
   ]
  },
  {
   "cell_type": "code",
   "execution_count": 196,
   "metadata": {},
   "outputs": [
    {
     "data": {
      "text/plain": [
       "(tensor([[0, 1],\n",
       "         [2, 3]]), tensor([0, 1, 2, 3]), torch.Size([4]), tensor([[0],\n",
       "         [1],\n",
       "         [2],\n",
       "         [3]]), torch.Size([4, 1]))"
      ]
     },
     "execution_count": 196,
     "metadata": {},
     "output_type": "execute_result"
    }
   ],
   "source": [
    "b = torch.tensor([[0, 1], [2, 3]])\n",
    "b2 = torch.reshape(b, (-1,))\n",
    "b3 = torch.unsqueeze(b2, 1)\n",
    "b, b2, b2.shape, b3, b3.shape"
   ]
  },
  {
   "cell_type": "code",
   "execution_count": 257,
   "metadata": {},
   "outputs": [
    {
     "data": {
      "text/plain": [
       "[3, 2]"
      ]
     },
     "execution_count": 257,
     "metadata": {},
     "output_type": "execute_result"
    }
   ],
   "source": [
    "rewards = []\n",
    "rewards.insert(0,2)\n",
    "rewards.insert(0,3)\n",
    "rewards"
   ]
  },
  {
   "cell_type": "code",
   "execution_count": 216,
   "metadata": {},
   "outputs": [
    {
     "data": {
      "text/plain": [
       "tensor([[-0.8064],\n",
       "        [-2.4553],\n",
       "        [    nan],\n",
       "        [    nan],\n",
       "        [-0.1831]])"
      ]
     },
     "execution_count": 216,
     "metadata": {},
     "output_type": "execute_result"
    }
   ],
   "source": [
    "a = torch.randn(5,1)\n",
    "torch.log(a)"
   ]
  },
  {
   "cell_type": "code",
   "execution_count": 111,
   "metadata": {},
   "outputs": [],
   "source": [
    "class RNN(nn.Module):\n",
    "    def __init__(self, name, hidden_size, input_size, num_layers = 2):\n",
    "        super(RNN, self).__init__()\n",
    "        self.name = name \n",
    "        self.hidden_size = hidden_size\n",
    "        self.input_size = input_size \n",
    "        self.rnn = nn.LSTM(         # if use nn.RNN(), it hardly learns\n",
    "            input_size=input_size,\n",
    "            hidden_size=hidden_size,         # rnn hidden unit\n",
    "            num_layers=num_layers,           # number of rnn layer\n",
    "            batch_first=True,       # input & output will has batch size as 1s dimension. e.g. (batch, time_step, input_size)\n",
    "        )\n",
    "\n",
    "        self.out = nn.Linear(hidden_size, 1)\n",
    "        criterion = torch.nn.BCEWithLogitsLoss()  \n",
    "        self.opt = torch.optim.Adam(self.parameters(), lr=1e-3)\n",
    "    \n",
    "    \n",
    "    def forward(self, x):\n",
    "        # x shape (batch, time_step, input_size)\n",
    "        # r_out shape (batch, time_step, output_size)\n",
    "        # h_n shape (n_layers, batch, hidden_size)\n",
    "        # h_c shape (n_layers, batch, hidden_size)\n",
    "        r_out, (h_n, h_c) = self.rnn(x, None)   # None represents zero initial hidden state\n",
    "\n",
    "        # choose r_out at the last time step\n",
    "        out = self.out(r_out)\n",
    "        out = out.squeeze(-1)\n",
    "        return out\n",
    "    \n",
    "    def learn(self, sequence, labels, mask):\n",
    "        prediction_lst = []\n",
    "        label_lst = []\n",
    "        prediction = self.forward(sequence)\n",
    "        pred = torch.sigmoid(prediction)\n",
    "#         print(prediction, prediction.shape)\n",
    "#         print(pred, pred.shape)\n",
    "#         print(labels)\n",
    "#         print(mask)\n",
    "        for pred, label, msk in zip(prediction, labels, mask):\n",
    "                num = sum(msk.tolist()) \n",
    "                pred = pred.tolist()[:num] \n",
    "                label = label.tolist()[:num] \n",
    "                label_lst.extend(label)\n",
    "                prediction_lst.extend(pred)\n",
    "#         print(prediction_lst)\n",
    "        sort_pred = deepcopy(prediction_lst)\n",
    "        sort_pred.sort() \n",
    "        threshold = sort_pred[int(len(sort_pred)*0.9)]\n",
    "#         print(threshold, type(threshold))\n",
    "#         print(type(prediction_lst))\n",
    "#         threshold = 0.5\n",
    "        float2binary = lambda x:0 if x<threshold else 1\n",
    "        binary_pred_lst = list(map(float2binary, prediction_lst))\n",
    "#         print(binary_pred_lst, len(binary_pred_lst))\n",
    "        \n",
    "#         print(\"size\", prediction.shape, labels.shape, mask.shape)\n",
    "        criterion = torch.nn.BCEWithLogitsLoss(size_average=True, weight = mask)  \n",
    "        \n",
    "        loss = criterion(prediction, labels)\n",
    "#         print(loss)\n",
    "        self.opt.zero_grad() \n",
    "        loss.backward() \n",
    "        self.opt.step()\n",
    "        \n",
    "    def test(self, test_loader, name):\n",
    "        label_lst, prediction_lst = [], []\n",
    "        for sequence, labels, mask in test_loader:\n",
    "            prediction = self.forward(sequence)\n",
    "            prediction = torch.sigmoid(prediction)\n",
    "#             print(prediction)\n",
    "            for pred, label, msk in zip(prediction, labels, mask):\n",
    "                num = sum(msk.tolist()) \n",
    "                pred = pred.tolist()[:num] \n",
    "                label = label.tolist()[:num] \n",
    "                label_lst.extend(label)\n",
    "                prediction_lst.extend(pred)\n",
    "#         print(prediction_lst)\n",
    "        sort_pred = deepcopy(prediction_lst)\n",
    "        sort_pred.sort() \n",
    "        threshold = sort_pred[int(len(sort_pred)*0.9)]\n",
    "#         print(threshold, type(threshold))\n",
    "#         print(type(prediction_lst))\n",
    "        float2binary = lambda x:0 if x<threshold else 1\n",
    "        binary_pred_lst = list(map(float2binary, prediction_lst))\n",
    "#         plot(label_lst, prediction_lst, name)\n",
    "        print('roc_auc', roc_auc_score(label_lst, prediction_lst), \n",
    "    \t\t  'F1', f1_score(label_lst, binary_pred_lst), \n",
    "    \t\t  'prauc', average_precision_score(label_lst, binary_pred_lst))\n",
    "        "
   ]
  },
  {
   "cell_type": "code",
   "execution_count": null,
   "metadata": {},
   "outputs": [],
   "source": []
  },
  {
   "cell_type": "code",
   "execution_count": 112,
   "metadata": {
    "scrolled": true
   },
   "outputs": [
    {
     "name": "stdout",
     "output_type": "stream",
     "text": [
      "roc_auc 0.5335994818737018 F1 0.06693212831640642 prauc 0.04190879541411918\n",
      "roc_auc 0.5360316308800153 F1 0.06567938794684801 prauc 0.041796298350668726\n",
      "roc_auc 0.5164668774067702 F1 0.057710374446383036 prauc 0.04116941726221139\n",
      "roc_auc 0.5336911573638689 F1 0.06325772826913612 prauc 0.041589450022538124\n",
      "roc_auc 0.5375527852011784 F1 0.06729306487695749 prauc 0.04194198086529447\n",
      "roc_auc 0.5392081076594782 F1 0.06997762863534676 prauc 0.04219818370173563\n",
      "roc_auc 0.5426586213221264 F1 0.07167785234899329 prauc 0.04236946336253772\n",
      "roc_auc 0.5555959554815755 F1 0.07355704697986577 prauc 0.04256690888031689\n",
      "roc_auc 0.5607043648326338 F1 0.07633109619686801 prauc 0.04287399024873452\n",
      "roc_auc 0.5668140269103071 F1 0.0796420581655481 prauc 0.043264877232858226\n",
      "roc_auc 0.5691908863245412 F1 0.0807158836689038 prauc 0.04339734688316985\n",
      "roc_auc 0.5715113761376702 F1 0.08214765100671141 prauc 0.04357831250705092\n",
      "roc_auc 0.5779515725023855 F1 0.08420581655480983 prauc 0.043847139124524155\n",
      "roc_auc 0.5767511843978586 F1 0.08599552572706935 prauc 0.0440892315438476\n",
      "roc_auc 0.5802033307027755 F1 0.08814317673378076 prauc 0.0443899710880617\n",
      "roc_auc 0.5812488592530956 F1 0.08957494407158836 prauc 0.04459666329391712\n",
      "roc_auc 0.5747973096597322 F1 0.08536912751677853 prauc 0.04400361775169296\n",
      "roc_auc 0.576575636962626 F1 0.08894854586129752 prauc 0.04450562522243053\n",
      "roc_auc 0.5783437718697724 F1 0.09234899328859061 prauc 0.04501124225523814\n",
      "roc_auc 0.5780786448084734 F1 0.09261744966442954 prauc 0.04505235079361758\n"
     ]
    }
   ],
   "source": [
    "model = RNN(name = 'Epitope', hidden_size=100, input_size=len(vocab_lst))\n",
    "epoch = 20\n",
    "for ep in range(epoch):\n",
    "    for sequence, labels, mask in train_loader:\n",
    "#         print(sequence.shape, labels.shape, mask.shape)\n",
    "        model.learn(sequence, labels, mask)\n",
    "    model.test(test_loader, name = model.name + '_' + str(ep) + '.png')"
   ]
  },
  {
   "cell_type": "code",
   "execution_count": null,
   "metadata": {},
   "outputs": [],
   "source": []
  }
 ],
 "metadata": {
  "kernelspec": {
   "display_name": "Python 3",
   "language": "python",
   "name": "python3"
  },
  "language_info": {
   "codemirror_mode": {
    "name": "ipython",
    "version": 3
   },
   "file_extension": ".py",
   "mimetype": "text/x-python",
   "name": "python",
   "nbconvert_exporter": "python",
   "pygments_lexer": "ipython3",
   "version": "3.7.4"
  }
 },
 "nbformat": 4,
 "nbformat_minor": 2
}
